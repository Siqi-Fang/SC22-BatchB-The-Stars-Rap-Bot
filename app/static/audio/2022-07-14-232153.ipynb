{
 "cells": [
  {
   "cell_type": "code",
   "execution_count": 1,
   "metadata": {
    "collapsed": false
   },
   "outputs": [
    {
     "name": "stdout",
     "output_type": "stream",
     "text": [
      "[Errno 2] No such file or directory: 'omni_nlp/app'\n",
      "/projects/ab6b9f32-4b18-411a-bce3-bf454bdd198d/omni_nlp/app/static/audio\n"
     ]
    }
   ],
   "source": [
    "cd omni_nlp/app\n"
   ]
  }
 ],
 "metadata": {
  "kernelspec": {
   "display_name": "Python (nlp_env)",
   "language": "python",
   "metadata": {
    "debugger": true
   },
   "name": "nlp_env",
   "resource_dir": "/projects/ab6b9f32-4b18-411a-bce3-bf454bdd198d/.local/share/jupyter/kernels/nlp_env"
  }
 },
 "nbformat": 4,
 "nbformat_minor": 4
}