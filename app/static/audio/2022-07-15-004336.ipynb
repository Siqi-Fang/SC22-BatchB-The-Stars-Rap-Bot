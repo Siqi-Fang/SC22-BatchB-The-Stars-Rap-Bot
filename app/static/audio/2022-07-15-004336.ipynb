{
 "cells": [
  {
   "cell_type": "code",
   "execution_count": 1,
   "metadata": {
    "collapsed": false
   },
   "outputs": [
    {
     "name": "stdout",
     "output_type": "stream",
     "text": [
      "[Errno 2] No such file or directory: 'path'\n",
      "/projects/ab6b9f32-4b18-411a-bce3-bf454bdd198d/omni_nlp/app/static/audio\n"
     ]
    }
   ],
   "source": [
    "cd path"
   ]
  },
  {
   "cell_type": "code",
   "execution_count": 0,
   "metadata": {
    "collapsed": false
   },
   "outputs": [
   ],
   "source": [
    "/projects/ab6b9f32-4b18-411a-bce3-bf454bdd198d/omni_nlp/app/static/audio"
   ]
  }
 ],
 "metadata": {
  "kernelspec": {
   "display_name": "Python (nlp_env)",
   "language": "python",
   "metadata": {
    "debugger": true
   },
   "name": "nlp_env",
   "resource_dir": "/projects/ab6b9f32-4b18-411a-bce3-bf454bdd198d/.local/share/jupyter/kernels/nlp_env"
  },
  "language_info": {
   "codemirror_mode": {
    "name": "ipython",
    "version": 3
   },
   "file_extension": ".py",
   "mimetype": "text/x-python",
   "name": "python",
   "nbconvert_exporter": "python",
   "pygments_lexer": "ipython3",
   "version": "3.8.13"
  }
 },
 "nbformat": 4,
 "nbformat_minor": 4
}